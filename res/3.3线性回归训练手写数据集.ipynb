{
 "cells": [
  {
   "cell_type": "code",
   "execution_count": 9,
   "metadata": {},
   "outputs": [],
   "source": [
    "import tensorflow as tf\n",
    "import tensorflow.examples.tutorials.mnist.input_data as input_data"
   ]
  },
  {
   "cell_type": "code",
   "execution_count": 10,
   "metadata": {},
   "outputs": [
    {
     "name": "stdout",
     "output_type": "stream",
     "text": [
      "Extracting Mnist\\train-images-idx3-ubyte.gz\n",
      "Extracting Mnist\\train-labels-idx1-ubyte.gz\n",
      "Extracting Mnist\\t10k-images-idx3-ubyte.gz\n",
      "Extracting Mnist\\t10k-labels-idx1-ubyte.gz\n"
     ]
    }
   ],
   "source": [
    "mnist_data = input_data.read_data_sets('Mnist',one_hot=True)"
   ]
  },
  {
   "cell_type": "code",
   "execution_count": 11,
   "metadata": {},
   "outputs": [],
   "source": [
    "# 规定一个batch的大小\n",
    "batch_size = 100\n",
    "# 算出我们这次训练有多少个batch的数据\n",
    "n_batch = mnist_data.train.num_examples // batch_size"
   ]
  },
  {
   "cell_type": "code",
   "execution_count": 12,
   "metadata": {},
   "outputs": [],
   "source": [
    "#定义两个feed占位符\n",
    "x = tf.placeholder(tf.float32 , [None , 784])\n",
    "y = tf.placeholder(tf.float32 , [None , 10])\n",
    "lr = tf.Variable(0.001, dtype=tf.float32)"
   ]
  },
  {
   "cell_type": "code",
   "execution_count": 13,
   "metadata": {},
   "outputs": [],
   "source": [
    "# 定义隐藏神经网络 这里我们使用256个神经元\n",
    "weights_L1 = tf.Variable(tf.truncated_normal([784,500] , stddev= 0.1)) #定义连接权随机矩阵\n",
    "bias_L1 = tf.Variable(tf.zeros([1,500]) + 0.1) #定义偏差都为0\n",
    "# 接下来算出激活函数输出\n",
    "output_L1 = tf.nn.tanh(tf.matmul(x,weights_L1)+bias_L1)"
   ]
  },
  {
   "cell_type": "code",
   "execution_count": 14,
   "metadata": {},
   "outputs": [],
   "source": [
    "# 再定一一层\n",
    "weights_L2 = tf.Variable(tf.truncated_normal([500,300] , stddev= 0.1)) #定义连接权随机矩阵\n",
    "bias_L2 = tf.Variable(tf.zeros([1,300]) + 0.1) #定义偏差都为0\n",
    "# 接下来算出激活函数输出\n",
    "output_L2 = tf.nn.tanh(tf.matmul(output_L1,weights_L2)+bias_L2)"
   ]
  },
  {
   "cell_type": "code",
   "execution_count": 15,
   "metadata": {},
   "outputs": [],
   "source": [
    "# 定义输出层神经元 因为是手写数字所以我们输出的应该有10个神经元\n",
    "weights_L3 = tf.Variable(tf.truncated_normal([300, 10] ,stddev=0.1))\n",
    "bias_L3 = tf.Variable(tf.zeros([1,10]) + 0.1)\n",
    "# 使用softmax函数来作为激活函数 \n",
    "output_L3 = tf.nn.softmax(tf.matmul(output_L2,weights_L3) + bias_L3)\n",
    "# 定义损失函数\n",
    "loss = tf.reduce_mean(tf.nn.softmax_cross_entropy_with_logits(labels = y , logits=output_L3))\n",
    "\n",
    "# 定义训练过程\n",
    "train = tf.train.AdamOptimizer(lr).minimize(loss)\n",
    "# 下面就是对与得到的结果进行一个归一化 统计出来我们需要one hot vector 这里其实我们就是想要把这个所谓的正确率统计出来\n",
    "correction = tf.equal(tf.argmax(y,1) , tf.argmax(output_L3,1))\n",
    "rate = tf.reduce_mean(tf.cast(correction,tf.float32))\n"
   ]
  },
  {
   "cell_type": "code",
   "execution_count": 16,
   "metadata": {},
   "outputs": [
    {
     "name": "stdout",
     "output_type": "stream",
     "text": [
      "Iter 0, accuracy is: 0.9481\n",
      "Iter 1, accuracy is: 0.9626\n",
      "Iter 2, accuracy is: 0.9668\n",
      "Iter 3, accuracy is: 0.9708\n",
      "Iter 4, accuracy is: 0.9697\n",
      "Iter 5, accuracy is: 0.9768\n",
      "Iter 6, accuracy is: 0.9731\n",
      "Iter 7, accuracy is: 0.9746\n",
      "Iter 8, accuracy is: 0.9784\n",
      "Iter 9, accuracy is: 0.9775\n",
      "Iter 10, accuracy is: 0.9788\n",
      "Iter 11, accuracy is: 0.9786\n",
      "Iter 12, accuracy is: 0.9792\n",
      "Iter 13, accuracy is: 0.9769\n",
      "Iter 14, accuracy is: 0.9807\n",
      "Iter 15, accuracy is: 0.9796\n",
      "Iter 16, accuracy is: 0.9803\n",
      "Iter 17, accuracy is: 0.981\n",
      "Iter 18, accuracy is: 0.9794\n",
      "Iter 19, accuracy is: 0.9805\n",
      "Iter 20, accuracy is: 0.9808\n",
      "Iter 21, accuracy is: 0.9819\n",
      "Iter 22, accuracy is: 0.9816\n",
      "Iter 23, accuracy is: 0.981\n",
      "Iter 24, accuracy is: 0.9811\n",
      "Iter 25, accuracy is: 0.9804\n",
      "Iter 26, accuracy is: 0.9781\n",
      "Iter 27, accuracy is: 0.9816\n",
      "Iter 28, accuracy is: 0.9817\n",
      "Iter 29, accuracy is: 0.9809\n",
      "Iter 30, accuracy is: 0.9809\n",
      "Iter 31, accuracy is: 0.9823\n",
      "Iter 32, accuracy is: 0.9807\n",
      "Iter 33, accuracy is: 0.9821\n",
      "Iter 34, accuracy is: 0.9809\n",
      "Iter 35, accuracy is: 0.9809\n",
      "Iter 36, accuracy is: 0.9804\n",
      "Iter 37, accuracy is: 0.9819\n",
      "Iter 38, accuracy is: 0.9815\n",
      "Iter 39, accuracy is: 0.9814\n",
      "Iter 40, accuracy is: 0.982\n",
      "Iter 41, accuracy is: 0.981\n",
      "Iter 42, accuracy is: 0.9813\n",
      "Iter 43, accuracy is: 0.9811\n",
      "Iter 44, accuracy is: 0.981\n",
      "Iter 45, accuracy is: 0.9813\n",
      "Iter 46, accuracy is: 0.9806\n",
      "Iter 47, accuracy is: 0.9814\n",
      "Iter 48, accuracy is: 0.9813\n",
      "Iter 49, accuracy is: 0.9814\n",
      "Iter 50, accuracy is: 0.9812\n"
     ]
    }
   ],
   "source": [
    "# 下面开启会话\n",
    "with tf.Session() as sess:\n",
    "    sess.run(tf.global_variables_initializer())\n",
    "    #这里控制神经网络训练整体数据多少次\n",
    "    for epoch in range(51):\n",
    "        sess.run(tf.assign(lr ,  0.001 * (0.95 ** epoch )))\n",
    "        for _ in range(n_batch):\n",
    "            data_x,data_y = mnist_data.train.next_batch(batch_size)\n",
    "            sess.run(train , feed_dict={x : data_x , y : data_y})\n",
    "        acc = sess.run(rate , feed_dict = {x : mnist_data.test.images , y : mnist_data.test.labels})\n",
    "        print('Iter ' + str(epoch) + ', accuracy is: ' + str(acc))\n",
    "        "
   ]
  },
  {
   "cell_type": "code",
   "execution_count": null,
   "metadata": {},
   "outputs": [],
   "source": []
  },
  {
   "cell_type": "code",
   "execution_count": null,
   "metadata": {},
   "outputs": [],
   "source": []
  }
 ],
 "metadata": {
  "kernelspec": {
   "display_name": "Python 3",
   "language": "python",
   "name": "python3"
  },
  "language_info": {
   "codemirror_mode": {
    "name": "ipython",
    "version": 3
   },
   "file_extension": ".py",
   "mimetype": "text/x-python",
   "name": "python",
   "nbconvert_exporter": "python",
   "pygments_lexer": "ipython3",
   "version": "3.7.0"
  }
 },
 "nbformat": 4,
 "nbformat_minor": 2
}
